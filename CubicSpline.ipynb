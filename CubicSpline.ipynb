{
 "cells": [
  {
   "cell_type": "code",
   "execution_count": 3,
   "metadata": {
    "collapsed": true
   },
   "outputs": [],
   "source": [
    "import numpy as np\n",
    "from scipy.linalg import solve\n",
    "import matplotlib.pyplot as plt\n",
    "from scipy import interpolate\n"
   ]
  },
  {
   "cell_type": "code",
   "execution_count": 2,
   "metadata": {},
   "outputs": [],
   "source": [
    "class NaturalCubicSpline:\n",
    "    def __init__(self,X,y):\n",
    "        self.X=np.array(X)\n",
    "        self.y= np.array(y)\n",
    "        self.n = y.shape[0]-1\n",
    "        self.__find_coefficients()\n",
    "        \n",
    "    def __zero_der(self,x):\n",
    "        # creating a vector which correspons to interpolation criteria\n",
    "        return np.array([ pow(x,i) for i in range(4)])[::-1]\n",
    "    \n",
    "    def __first_der_continuity(self,x):\n",
    "        # creating a vector which corresponds to first derivative continuity condtion\n",
    "        return np.array([3*pow(x,2),2*x,1,0,-3*pow(x,2),-2*x,-1,0])\n",
    "    \n",
    "    def __second_der_continuity(self,x):\n",
    "        # creating a vector which corresponds to second derivative continuity condtion\n",
    "        return np.array([6*x,2,0,0,-6*x,-2,0,0])\n",
    "        \n",
    "    def __cubic_spline_calc(self,x,coef):\n",
    "        # calculates the value of the cubic polynomial with the given coefficients\n",
    "        return np.dot(coef,np.array([pow(x,i) for i in range(3,-1,-1)]))\n",
    "        \n",
    "    \n",
    "    def __find_coefficients(self):\n",
    "        coeff_matrix = np.zeros((4*self.n,4*self.n))\n",
    "        #initializing interpolating criterias (s(x_i)=y_i)\n",
    "        for i in range(self.n+1):\n",
    "            row = 2*i-1\n",
    "            if i==0:\n",
    "                coeff_matrix[row+1][4*(i):4*(i+1)] = self.__zero_der(self.X[i])\n",
    "            elif i==self.n:\n",
    "        \n",
    "                coeff_matrix[row][4*(i-1):4*(i)] = self.__zero_der(self.X[i])\n",
    "            else:\n",
    "                coeff_matrix[row][4*(i-1):4*(i)] = self.__zero_der(self.X[i])\n",
    "                coeff_matrix[row+1][4*(i):4*(i+1)] = self.__zero_der(self.X[i])\n",
    "        \n",
    "        # first derivative continuity criteria\n",
    "        for i in range(1,self.n):\n",
    "            row = 2*self.n+i-1\n",
    "            coeff_matrix[row][4*i-4:4*i+4] = self.__first_der_continuity(self.X[i])\n",
    "        #second derivative continuity criteria\n",
    "        for i in range(1,self.n):\n",
    "            row = 3*self.n+i-2\n",
    "            coeff_matrix[row][4*i-4:4*i+4] = self.__second_der_continuity(self.X[i])\n",
    "        \n",
    "        # boundary conditions\n",
    "        coeff_matrix[4*self.n-2][:8] = self.__second_der_continuity(self.X[0])\n",
    "        coeff_matrix[4*self.n-1][-8:] =self.__second_der_continuity(self.X[-1])\n",
    "        \n",
    "        y= np.zeros(4*self.n)\n",
    "        # creating output vector\n",
    "        for i in range(self.n+1):\n",
    "            if i!=0 and i!=self.n:\n",
    "                y[2*i-1]=self.y[i]\n",
    "                y[2*i]=self.y[i]\n",
    "            elif i==0:\n",
    "                y[i] = self.y[i]\n",
    "            else:\n",
    "                y[2*i-1]=self.y[i]\n",
    "        # solving system of linear equations        \n",
    "        self.coefficients = solve(coeff_matrix,y)\n",
    "        \n",
    "    \n",
    "    def evaluate(self,x):\n",
    "        spn_idx = np.nonzero(self.X<=x)[0][-1] # finding the interval to which x belongs(which spline)\n",
    "        coef = self.coefficients[4*spn_idx:4*(spn_idx+1)] # calculating the value of natural cubic spline \n",
    "                                                          # at the given x\n",
    "        return self.__cubic_spline_calc(x,coef)\n",
    "    \n",
    "    def plot_splin(self,X):\n",
    "        # plotting function\n",
    "        y = [ self.evaluate(i)  for i in X]   # use interpolation function returned by `interp1d`\n",
    "        plt.plot(self.X, self.y, 'o', X, y, '-')\n",
    "        plt.show()\n",
    "        \n",
    "    \n",
    "    \n",
    "    \n",
    "        \n",
    "        \n",
    "            \n",
    "        \n",
    "    \n",
    "            \n",
    "        \n",
    "            \n",
    "            \n",
    "                    \n",
    "                    \n",
    "            \n",
    "            \n",
    "        \n",
    "        \n",
    "    "
   ]
  },
  {
   "cell_type": "code",
   "execution_count": 4,
   "metadata": {
    "collapsed": true
   },
   "outputs": [],
   "source": [
    ">>> x = np.arange(0, 10)\n",
    ">>> y = np.exp(-x/3.0)\n",
    ">>> f = interpolate.interp1d(x, y,kind='cubic')"
   ]
  },
  {
   "cell_type": "code",
   "execution_count": 5,
   "metadata": {},
   "outputs": [
    {
     "data": {
      "image/png": "[encoded data removed]",
      "text/plain": [
       "<matplotlib.figure.Figure at 0x7f94c9ccb310>"
      ]
     },
     "metadata": {},
     "output_type": "display_data"
    }
   ],
   "source": [
    "xnew = np.arange(0, 9, 0.1)\n",
    ">>> ynew = f(xnew)   # use interpolation function returned by `interp1d`\n",
    ">>> plt.plot(x, y, 'o', xnew, ynew, '-')\n",
    ">>> plt.show()"
   ]
  },
  {
   "cell_type": "code",
   "execution_count": 6,
   "metadata": {},
   "outputs": [],
   "source": [
    "cubic_spline_obj = NaturalCubicSpline(x,y)"
   ]
  },
  {
   "cell_type": "code",
   "execution_count": 7,
   "metadata": {},
   "outputs": [
    {
     "data": {
      "image/png": "[encoded data removed]",
      "text/plain": [
       "<matplotlib.figure.Figure at 0x7f94c7ca6090>"
      ]
     },
     "metadata": {},
     "output_type": "display_data"
    }
   ],
   "source": [
    "cubic_spline_obj.plot_splin(xnew) ## Our spline"
   ]
  },
  {
   "cell_type": "code",
   "execution_count": 8,
   "metadata": {},
   "outputs": [
    {
     "name": "stdout",
     "output_type": "stream",
     "text": [
      "The absolute error between our spline and scipy spline is: 1.43288159116e-14\n"
     ]
    }
   ],
   "source": [
    "y_val = np.array([ cubic_spline_obj.evaluate(i) for i in xnew])\n",
    "print 'The absolute error between our spline and scipy spline is:' , np.sum(np.abs(y_val-ynew))"
   ]
  },
  {
   "cell_type": "code",
   "execution_count": null,
   "metadata": {
    "collapsed": true
   },
   "outputs": [],
   "source": []
  }
 ],
 "metadata": {
  "kernelspec": {
   "display_name": "Python 2",
   "language": "python",
   "name": "python2"
  },
  "language_info": {
   "codemirror_mode": {
    "name": "ipython",
    "version": 2
   },
   "file_extension": ".py",
   "mimetype": "text/x-python",
   "name": "python",
   "nbconvert_exporter": "python",
   "pygments_lexer": "ipython2",
   "version": "2.7.12"
  }
 },
 "nbformat": 4,
 "nbformat_minor": 2
}
