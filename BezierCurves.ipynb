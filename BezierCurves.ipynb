{
 "cells": [
  {
   "cell_type": "markdown",
   "metadata": {},
   "source": [
    "This notebook containt an implementation of de Casteljau's algorithm  along with visualization of Bezier curves.\n",
    "The implemtation of de Casteljau's algorithm is provided within evaluate's method.\n",
    "Animation is implemented in plot_t's method"
   ]
  },
  {
   "cell_type": "code",
   "execution_count": 41,
   "metadata": {},
   "outputs": [],
   "source": [
    "import numpy as np\n",
    "from scipy.signal import convolve\n",
    "import matplotlib.pyplot as plt\n",
    "from ipywidgets import interactive\n",
    "from matplotlib import colors as mcolors\n",
    "%matplotlib inline\n",
    "colors = list(dict(mcolors.BASE_COLORS, **mcolors.CSS4_COLORS).keys())"
   ]
  },
  {
   "cell_type": "code",
   "execution_count": 53,
   "metadata": {},
   "outputs": [],
   "source": [
    "t=np.linspace(0,1,4)"
   ]
  },
  {
   "cell_type": "code",
   "execution_count": 54,
   "metadata": {},
   "outputs": [
    {
     "data": {
      "text/plain": [
       "array([0.        , 0.33333333, 0.66666667, 1.        ])"
      ]
     },
     "execution_count": 54,
     "metadata": {},
     "output_type": "execute_result"
    }
   ],
   "source": [
    "t"
   ]
  },
  {
   "cell_type": "code",
   "execution_count": 166,
   "metadata": {},
   "outputs": [],
   "source": [
    "class Bezier:\n",
    "    def __init__(self, points,keep_history=True):\n",
    "        self.n = points.shape[1]\n",
    "        self.points = points\n",
    "        self.t = np.linspace(0,1,100)\n",
    "        \n",
    "        if keep_history:\n",
    "            self.curve_evolution = np.array([ self.evaluate(i)[0] for i in self.t]).T[0]\n",
    "        \n",
    "        \n",
    "    def evaluate(self,t):\n",
    "        new_p  = self.points \n",
    "        weights = np.array([[t,1-t]]) \n",
    "        results = [new_p]\n",
    "        for i in range(self.n-1):\n",
    "            new_p = convolve(new_p,weights,mode='valid') \n",
    "            results.append(new_p)\n",
    "            \n",
    "        return new_p,results[:-1]\n",
    "\n",
    "    def plot_init(self):\n",
    "\n",
    "        self.fig = plt.figure()\n",
    "        self.ax = plt.axes(xlim=(0, 1), ylim=(0, 1))\n",
    "\n",
    "    def plot_t(self,t0,plot_until_t0,title=''):\n",
    "        t_pos=int(np.ceil(t0/self.t[1]))\n",
    "        Bez_cur= self.curve_evolution[:,:t_pos]\n",
    "        pol = self.evaluate(t0)[1] \n",
    "        for i,convex_pol in enumerate(pol):\n",
    "            c=colors[i]\n",
    "            for edge in range(convex_pol.shape[1]-1):\n",
    "                plt.plot(convex_pol[0][edge:edge+2],convex_pol[1][edge:edge+2],c)\n",
    "        if plot_until_t0:\n",
    "            plt.plot(Bez_cur[0],Bez_cur[1])\n",
    "        else:\n",
    "            plt.scatter([Bez_cur[0][-1]],[Bez_cur[1][-1]])\n",
    "        plt.title(title)\n",
    "        plt.show()\n",
    "\n",
    "    def update(self,t0):\n",
    "        self.ax.clear()\n",
    "         \n",
    "        t_pos=int(np.ceil(t0/self.t[1]))\n",
    "        Bez_cur= self.curve_evolution[:,:t_pos]\n",
    "        pol = self.evaluate(t0)[1] \n",
    "        for i,convex_pol in enumerate(pol):\n",
    "            c=colors[i]\n",
    "            for edge in range(convex_pol.shape[1]-1):\n",
    "                self.ax.plot(convex_pol[0][edge:edge+2],convex_pol[1][edge:edge+2],c)\n",
    "        \n",
    "        self.ax.plot(Bez_cur[0],Bez_cur[1])\n",
    "            \n",
    "        return self.ax\n",
    "\n",
    "    def interactive_plot(self):\n",
    "        plot_f = lambda t0: self.plot_t(t0=t0,plot_until_t0=True)\n",
    "        interactive_plot = interactive(plot_f,t0=(0,1,0.01))\n",
    "        output = interactive_plot.children[-1]\n",
    "        output.layout.height = '350px'\n",
    "        return interactive_plot\n",
    "    \n",
    "                "
   ]
  },
  {
   "cell_type": "code",
   "execution_count": 167,
   "metadata": {},
   "outputs": [],
   "source": [
    "#control_points = np.random.rand(2,4)\n",
    "control_points = np.array([[1,2,3],[1,3,0]])\n",
    "curve = Bezier(control_points)"
   ]
  },
  {
   "cell_type": "code",
   "execution_count": 150,
   "metadata": {},
   "outputs": [
    {
     "data": {
      "application/vnd.jupyter.widget-view+json": {
       "model_id": "7abba2dddf4540a9ab66368192f4d46c",
       "version_major": 2,
       "version_minor": 0
      },
      "text/plain": [
       "interactive(children=(FloatSlider(value=0.0, description='t0', max=1.0, step=0.01), Output(layout=Layout(heigh…"
      ]
     },
     "metadata": {},
     "output_type": "display_data"
    }
   ],
   "source": [
    "plot = curve.interactive_plot()\n",
    "plot"
   ]
  },
  {
   "cell_type": "code",
   "execution_count": 151,
   "metadata": {},
   "outputs": [
    {
     "data": {
      "image/png": "[encoded data removed]",
      "text/plain": [
       "<Figure size 432x288 with 1 Axes>"
      ]
     },
     "metadata": {
      "needs_background": "light"
     },
     "output_type": "display_data"
    }
   ],
   "source": [
    "t=1\n",
    "curve.plot_t(t,True,'Plot at t='+str(t))"
   ]
  },
  {
   "cell_type": "code",
   "execution_count": 170,
   "metadata": {},
   "outputs": [
    {
     "data": {
      "application/vnd.jupyter.widget-view+json": {
       "model_id": "d8850bba3e204ccba167c019c3c7abd8",
       "version_major": 2,
       "version_minor": 0
      },
      "text/plain": [
       "interactive(children=(FloatSlider(value=0.0, description='t0', max=1.0, step=0.01), Output(layout=Layout(heigh…"
      ]
     },
     "metadata": {},
     "output_type": "display_data"
    }
   ],
   "source": [
    "control_points = np.random.rand(2,8)\n",
    "curve = Bezier(control_points)\n",
    "plot = curve.interactive_plot()\n",
    "plot"
   ]
  },
  {
   "cell_type": "code",
   "execution_count": 153,
   "metadata": {},
   "outputs": [
    {
     "data": {
      "image/png": "[encoded data removed]",
      "text/plain": [
       "<Figure size 432x288 with 1 Axes>"
      ]
     },
     "metadata": {
      "needs_background": "light"
     },
     "output_type": "display_data"
    }
   ],
   "source": [
    "curve.plot_init()"
   ]
  },
  {
   "cell_type": "code",
   "execution_count": 171,
   "metadata": {},
   "outputs": [
    {
     "data": {
      "image/png": "[encoded data removed]",
      "text/plain": [
       "<Figure size 432x288 with 1 Axes>"
      ]
     },
     "metadata": {
      "needs_background": "light"
     },
     "output_type": "display_data"
    }
   ],
   "source": [
    "from matplotlib.animation import FuncAnimation\n",
    "\n",
    "curve.plot_init()\n",
    "\n",
    "anim = FuncAnimation(curve.fig, curve.update, \n",
    "                               frames=curve.t, blit=False, repeat=True)\n"
   ]
  },
  {
   "cell_type": "code",
   "execution_count": 172,
   "metadata": {},
   "outputs": [],
   "source": [
    "anim.save('./random.gif', writer='imagemagick')"
   ]
  },
  {
   "cell_type": "code",
   "execution_count": null,
   "metadata": {},
   "outputs": [],
   "source": []
  }
 ],
 "metadata": {
  "kernelspec": {
   "display_name": "Python 3",
   "language": "python",
   "name": "python3"
  },
  "language_info": {
   "codemirror_mode": {
    "name": "ipython",
    "version": 3
   },
   "file_extension": ".py",
   "mimetype": "text/x-python",
   "name": "python",
   "nbconvert_exporter": "python",
   "pygments_lexer": "ipython3",
   "version": "3.6.9"
  }
 },
 "nbformat": 4,
 "nbformat_minor": 2
}
