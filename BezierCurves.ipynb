{
 "cells": [
  {
   "cell_type": "markdown",
   "metadata": {},
   "source": [
    "This notebook containt an implementation of de Casteljau's algorithm  along with visualization of Bezier curves.\n",
    "The implemtation of de Casteljau's algorithm is provided within evaluate's method.\n",
    "Animation is implemented in plot_t's method"
   ]
  },
  {
   "cell_type": "code",
   "execution_count": 175,
   "metadata": {
    "collapsed": true
   },
   "outputs": [],
   "source": [
    "import numpy as np\n",
    "from scipy.signal import convolve\n",
    "import matplotlib.pyplot as plt\n",
    "from ipywidgets import interactive\n",
    "from matplotlib import colors\n",
    "%matplotlib inline\n",
    "colors=colors.cnames.keys()"
   ]
  },
  {
   "cell_type": "code",
   "execution_count": 231,
   "metadata": {
    "collapsed": true
   },
   "outputs": [],
   "source": [
    "class Bezier:\n",
    "    def __init__(self, points):\n",
    "        self.n = points.shape[1]\n",
    "        self.points = points\n",
    "        self.t = np.linspace(0,1,100)\n",
    "        \n",
    "    def evaluate(self,t):\n",
    "        new_p  = self.points \n",
    "        weights = np.array([[t,1-t]]) \n",
    "        results = [new_p]\n",
    "        for i in range(self.n-1):\n",
    "            new_p = convolve(new_p,weights,mode='valid') \n",
    "            results.append(new_p)\n",
    "            \n",
    "        return new_p,results[:-1]\n",
    "    \n",
    "    def plot_t(self,t0,plot_until_t0,title=''):\n",
    "        \n",
    "        Bez_cur = np.array([ self.evaluate(i)[0] for i in self.t if i<=t0]).T[0]\n",
    "        pol = self.evaluate(t0)[1]\n",
    "\n",
    "        for i,convex_pol in enumerate(pol):\n",
    "            c=colors[i]\n",
    "            for edge in range(convex_pol.shape[1]-1):\n",
    "                plt.plot(convex_pol[0][edge:edge+2],convex_pol[1][edge:edge+2],c)\n",
    "        if plot_until_t0:\n",
    "            plt.plot(Bez_cur[0],Bez_cur[1])\n",
    "        else:\n",
    "            plt.scatter([Bez_cur[0][-1]],[Bez_cur[1][-1]])\n",
    "        plt.title(title)\n",
    "        plt.show()\n",
    "        \n",
    "\n",
    "    def interactive_plot(self):\n",
    "        plot_f = lambda t0: self.plot_t(t0=t0,plot_until_t0=True)\n",
    "        interactive_plot = interactive(plot_f,t0=(0,1,0.01))\n",
    "        output = interactive_plot.children[-1]\n",
    "        output.layout.height = '350px'\n",
    "        return interactive_plot\n",
    "    \n",
    "                "
   ]
  },
  {
   "cell_type": "code",
   "execution_count": 232,
   "metadata": {},
   "outputs": [
    {
     "name": "stdout",
     "output_type": "stream",
     "text": [
      "[[1 2 3]\n",
      " [1 3 0]]\n"
     ]
    }
   ],
   "source": [
    "#control_points = np.random.rand(2,4)\n",
    "control_points = np.array([[1,2,3],[1,3,0]])\n",
    "curve = Bezier(control_points)"
   ]
  },
  {
   "cell_type": "code",
   "execution_count": 234,
   "metadata": {},
   "outputs": [
    {
     "data": {
      "application/vnd.jupyter.widget-view+json": {
       "model_id": "3553017cded349c8b27c028010402fb7",
       "version_major": 2,
       "version_minor": 0
      },
      "text/plain": [
       "A Jupyter Widget"
      ]
     },
     "metadata": {},
     "output_type": "display_data"
    }
   ],
   "source": [
    "plot = curve.interactive_plot()\n",
    "plot"
   ]
  },
  {
   "cell_type": "code",
   "execution_count": 243,
   "metadata": {},
   "outputs": [
    {
     "data": {
      "image/png": "[encoded data removed]",
      "text/plain": [
       "<matplotlib.figure.Figure at 0x7fdfd81a5dd0>"
      ]
     },
     "metadata": {},
     "output_type": "display_data"
    }
   ],
   "source": [
    "t=1\n",
    "curve.plot_t(t,True,'Plot at t='+str(t))"
   ]
  },
  {
   "cell_type": "code",
   "execution_count": 257,
   "metadata": {},
   "outputs": [
    {
     "data": {
      "application/vnd.jupyter.widget-view+json": {
       "model_id": "e1f5ba4215b74384b5398ff324d506cc",
       "version_major": 2,
       "version_minor": 0
      },
      "text/plain": [
       "A Jupyter Widget"
      ]
     },
     "metadata": {},
     "output_type": "display_data"
    }
   ],
   "source": [
    "control_points = np.random.rand(2,8)\n",
    "curve = Bezier(control_points)\n",
    "plot = curve.interactive_plot()\n",
    "plot"
   ]
  },
  {
   "cell_type": "code",
   "execution_count": null,
   "metadata": {
    "collapsed": true
   },
   "outputs": [],
   "source": []
  }
 ],
 "metadata": {
  "kernelspec": {
   "display_name": "Python 2",
   "language": "python",
   "name": "python2"
  },
  "language_info": {
   "codemirror_mode": {
    "name": "ipython",
    "version": 2
   },
   "file_extension": ".py",
   "mimetype": "text/x-python",
   "name": "python",
   "nbconvert_exporter": "python",
   "pygments_lexer": "ipython2",
   "version": "2.7.12"
  }
 },
 "nbformat": 4,
 "nbformat_minor": 2
}
